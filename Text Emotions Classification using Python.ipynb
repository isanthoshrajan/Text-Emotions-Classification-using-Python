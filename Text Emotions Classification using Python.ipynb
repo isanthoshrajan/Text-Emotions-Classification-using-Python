{
 "cells": [
  {
   "cell_type": "raw",
   "id": "629ab84e-98c5-4af9-bbdf-754b46a10ae6",
   "metadata": {},
   "source": [
    "Text Emotions Classification using Python"
   ]
  },
  {
   "cell_type": "markdown",
   "id": "4fd4e739-58fa-450a-b480-af33c6b7483f",
   "metadata": {},
   "source": [
    "Text emotions classification is the problem of assigning emotion to a text by understanding the context and the emotion behind the text. One real-world example is the keyboard of an iPhone that recommends the most relevant emoji by understanding the text. So, if you want to learn how to classify the emotions of a text, this article is for you. In this article, I will take you through the task of text emotions classification with Machine Learning using Python."
   ]
  },
  {
   "cell_type": "markdown",
   "id": "8ff4a52a-ccbd-4bfc-ac3a-d7711139b861",
   "metadata": {},
   "source": [
    "Text Emotions Classification\n",
    "\n",
    "Text emotions classification is the problem of natural language processing and text classification. Here we need to train a text classification model to classify the emotion of a text.\n",
    "\n",
    "In the section below, I’ll take you through how to train a text classification model for the task of Text Emotions Classification using Machine Learning and the Python programming language."
   ]
  },
  {
   "cell_type": "code",
   "execution_count": 16,
   "id": "6896d4ce-789f-4d8a-bcc0-0ddcf39c2289",
   "metadata": {},
   "outputs": [
    {
     "name": "stdout",
     "output_type": "stream",
     "text": [
      "  C:\\Users\\santh\\Downloads\\Emotions dataset for NLP\\Text Emotions\n",
      "0  i can go from feeling so hopeless to so damned...      sadness\n",
      "1   im grabbing a minute to post i feel greedy wrong        anger\n",
      "2  i am ever feeling nostalgic about the fireplac...         love\n",
      "3                               i am feeling grouchy        anger\n",
      "4  ive been feeling a little burdened lately wasn...      sadness\n"
     ]
    }
   ],
   "source": [
    "import pandas as pd\n",
    "import numpy as np\n",
    "import keras\n",
    "import tensorflow\n",
    "from tensorflow.keras.preprocessing.text import Tokenizer\n",
    "from tensorflow.keras.preprocessing.sequence import pad_sequences\n",
    "from sklearn.preprocessing import LabelEncoder\n",
    "from sklearn.model_selection import train_test_split\n",
    "from keras.models import Sequential\n",
    "from keras.layers import Embedding, Flatten, Dense\n",
    "\n",
    "\n",
    "data = pd.read_csv(r\"C:\\Users\\santh\\Downloads\\Emotions dataset for NLP\\train.txt\", sep=';')\n",
    "data.columns = [r\"C:\\Users\\santh\\Downloads\\Emotions dataset for NLP\\Text\", \"Emotions\"]\n",
    "print(data.head())"
   ]
  },
  {
   "cell_type": "raw",
   "id": "9c840b86-3e76-4dbc-aee5-30dc9e32fdec",
   "metadata": {},
   "source": [
    "As this is a problem of natural language processing, I’ll start by tokenizing the data:"
   ]
  },
  {
   "cell_type": "code",
   "execution_count": 20,
   "id": "fab400e7-4b65-46cf-b06a-4580cd28a01a",
   "metadata": {},
   "outputs": [],
   "source": [
    "texts = data[r\"C:\\Users\\santh\\Downloads\\Emotions dataset for NLP\\Text\"].tolist()\n",
    "labels = data[\"Emotions\"].tolist()\n",
    "\n",
    "# Tokenize the text data\n",
    "tokenizer = Tokenizer()\n",
    "tokenizer.fit_on_texts(texts)"
   ]
  },
  {
   "cell_type": "raw",
   "id": "ac68b732-acf3-41f3-a385-781977d761a5",
   "metadata": {},
   "source": [
    "Now we need to pad the sequences to the same length to feed them into a neural network. Here’s how we can pad the sequences of the texts to have the same length:"
   ]
  },
  {
   "cell_type": "code",
   "execution_count": 21,
   "id": "a57df04f-c968-4d1a-8ab7-2918246d6e6b",
   "metadata": {},
   "outputs": [],
   "source": [
    "sequences = tokenizer.texts_to_sequences(texts)\n",
    "max_length = max([len(seq) for seq in sequences])\n",
    "padded_sequences = pad_sequences(sequences, maxlen=max_length)"
   ]
  },
  {
   "cell_type": "raw",
   "id": "090c9dc9-2d85-42e3-bb15-d5120ca8b5d9",
   "metadata": {},
   "source": [
    "Now I’ll use the label encoder method to convert the classes from strings to a numerical representation:"
   ]
  },
  {
   "cell_type": "code",
   "execution_count": 22,
   "id": "adc8dfdc-a8c6-4915-8df1-6e144694300f",
   "metadata": {},
   "outputs": [],
   "source": [
    "# Encode the string labels to integers\n",
    "label_encoder = LabelEncoder()\n",
    "labels = label_encoder.fit_transform(labels)"
   ]
  },
  {
   "cell_type": "raw",
   "id": "fa292abb-fbf8-4172-bfde-4eb22f3f5212",
   "metadata": {},
   "source": [
    "We are now going to One-hot encode the labels. One hot encoding refers to the transformation of categorical labels into a binary representation where each label is represented as a vector of all zeros except a single 1. This is necessary because machine learning algorithms work with numerical data. So here is how we can One-hot encode the labels:"
   ]
  },
  {
   "cell_type": "code",
   "execution_count": 23,
   "id": "0c8d1a8b-94c4-4103-b0d5-44786d459ca9",
   "metadata": {},
   "outputs": [],
   "source": [
    "# One-hot encode the labels\n",
    "one_hot_labels = keras.utils.to_categorical(labels)"
   ]
  },
  {
   "cell_type": "raw",
   "id": "16e55f70-980a-4a8d-bdb5-ea23d33dd438",
   "metadata": {},
   "source": [
    "Text Emotions Classification Model"
   ]
  },
  {
   "cell_type": "markdown",
   "id": "f3a7f0c2-945b-4601-bdcd-65c86032b276",
   "metadata": {},
   "source": [
    "Now we will split the data into training and test sets:"
   ]
  },
  {
   "cell_type": "code",
   "execution_count": 24,
   "id": "610c180d-792a-4cdc-a6c1-aa6df67e0a90",
   "metadata": {},
   "outputs": [],
   "source": [
    "# Split the data into training and testing sets\n",
    "xtrain, xtest, ytrain, ytest = train_test_split(padded_sequences, \n",
    "                                                one_hot_labels, \n",
    "                                                test_size=0.2)"
   ]
  },
  {
   "cell_type": "markdown",
   "id": "baf851ae-30e4-483a-a394-73b8c61e1e9e",
   "metadata": {},
   "source": [
    "Now let’s define a neural network architecture for our classification problem and use it to train a model to classify emotions:"
   ]
  },
  {
   "cell_type": "code",
   "execution_count": 25,
   "id": "06b2cb7f-725b-4735-b327-a74eaabd7b54",
   "metadata": {},
   "outputs": [
    {
     "name": "stdout",
     "output_type": "stream",
     "text": [
      "Epoch 1/10\n"
     ]
    },
    {
     "name": "stderr",
     "output_type": "stream",
     "text": [
      "C:\\Users\\santh\\anaconda3\\Lib\\site-packages\\keras\\src\\layers\\core\\embedding.py:97: UserWarning: Argument `input_length` is deprecated. Just remove it.\n",
      "  warnings.warn(\n"
     ]
    },
    {
     "name": "stdout",
     "output_type": "stream",
     "text": [
      "\u001b[1m400/400\u001b[0m \u001b[32m━━━━━━━━━━━━━━━━━━━━\u001b[0m\u001b[37m\u001b[0m \u001b[1m13s\u001b[0m 27ms/step - accuracy: 0.4880 - loss: 1.3243 - val_accuracy: 0.7459 - val_loss: 0.7763\n",
      "Epoch 2/10\n",
      "\u001b[1m400/400\u001b[0m \u001b[32m━━━━━━━━━━━━━━━━━━━━\u001b[0m\u001b[37m\u001b[0m \u001b[1m10s\u001b[0m 26ms/step - accuracy: 0.8894 - loss: 0.3376 - val_accuracy: 0.8138 - val_loss: 0.5510\n",
      "Epoch 3/10\n",
      "\u001b[1m400/400\u001b[0m \u001b[32m━━━━━━━━━━━━━━━━━━━━\u001b[0m\u001b[37m\u001b[0m \u001b[1m10s\u001b[0m 26ms/step - accuracy: 0.9852 - loss: 0.0600 - val_accuracy: 0.8266 - val_loss: 0.5634\n",
      "Epoch 4/10\n",
      "\u001b[1m400/400\u001b[0m \u001b[32m━━━━━━━━━━━━━━━━━━━━\u001b[0m\u001b[37m\u001b[0m \u001b[1m10s\u001b[0m 26ms/step - accuracy: 0.9949 - loss: 0.0238 - val_accuracy: 0.8197 - val_loss: 0.6257\n",
      "Epoch 5/10\n",
      "\u001b[1m400/400\u001b[0m \u001b[32m━━━━━━━━━━━━━━━━━━━━\u001b[0m\u001b[37m\u001b[0m \u001b[1m10s\u001b[0m 26ms/step - accuracy: 0.9965 - loss: 0.0162 - val_accuracy: 0.8225 - val_loss: 0.6523\n",
      "Epoch 6/10\n",
      "\u001b[1m400/400\u001b[0m \u001b[32m━━━━━━━━━━━━━━━━━━━━\u001b[0m\u001b[37m\u001b[0m \u001b[1m11s\u001b[0m 26ms/step - accuracy: 0.9968 - loss: 0.0144 - val_accuracy: 0.8156 - val_loss: 0.6913\n",
      "Epoch 7/10\n",
      "\u001b[1m400/400\u001b[0m \u001b[32m━━━━━━━━━━━━━━━━━━━━\u001b[0m\u001b[37m\u001b[0m \u001b[1m11s\u001b[0m 27ms/step - accuracy: 0.9974 - loss: 0.0112 - val_accuracy: 0.8116 - val_loss: 0.7189\n",
      "Epoch 8/10\n",
      "\u001b[1m400/400\u001b[0m \u001b[32m━━━━━━━━━━━━━━━━━━━━\u001b[0m\u001b[37m\u001b[0m \u001b[1m11s\u001b[0m 26ms/step - accuracy: 0.9978 - loss: 0.0109 - val_accuracy: 0.8097 - val_loss: 0.8118\n",
      "Epoch 9/10\n",
      "\u001b[1m400/400\u001b[0m \u001b[32m━━━━━━━━━━━━━━━━━━━━\u001b[0m\u001b[37m\u001b[0m \u001b[1m10s\u001b[0m 26ms/step - accuracy: 0.9973 - loss: 0.0107 - val_accuracy: 0.8103 - val_loss: 0.8037\n",
      "Epoch 10/10\n",
      "\u001b[1m400/400\u001b[0m \u001b[32m━━━━━━━━━━━━━━━━━━━━\u001b[0m\u001b[37m\u001b[0m \u001b[1m10s\u001b[0m 26ms/step - accuracy: 0.9976 - loss: 0.0091 - val_accuracy: 0.8184 - val_loss: 0.8378\n"
     ]
    },
    {
     "data": {
      "text/plain": [
       "<keras.src.callbacks.history.History at 0x1e2916523c0>"
      ]
     },
     "execution_count": 25,
     "metadata": {},
     "output_type": "execute_result"
    }
   ],
   "source": [
    "# Define the model\n",
    "model = Sequential()\n",
    "model.add(Embedding(input_dim=len(tokenizer.word_index) + 1, \n",
    "                    output_dim=128, input_length=max_length))\n",
    "model.add(Flatten())\n",
    "model.add(Dense(units=128, activation=\"relu\"))\n",
    "model.add(Dense(units=len(one_hot_labels[0]), activation=\"softmax\"))\n",
    "\n",
    "model.compile(optimizer=\"adam\", loss=\"categorical_crossentropy\", metrics=[\"accuracy\"])\n",
    "model.fit(xtrain, ytrain, epochs=10, batch_size=32, validation_data=(xtest, ytest))"
   ]
  },
  {
   "cell_type": "markdown",
   "id": "fba8aee3-2385-4b0e-93de-8335b2f4adf0",
   "metadata": {},
   "source": [
    "Now let’s take a sentence as an input text and see how the model performs:"
   ]
  },
  {
   "cell_type": "code",
   "execution_count": 26,
   "id": "21dd8a0b-36cf-423b-8efc-527c08549773",
   "metadata": {},
   "outputs": [
    {
     "name": "stdout",
     "output_type": "stream",
     "text": [
      "\u001b[1m1/1\u001b[0m \u001b[32m━━━━━━━━━━━━━━━━━━━━\u001b[0m\u001b[37m\u001b[0m \u001b[1m0s\u001b[0m 116ms/step\n",
      "['sadness']\n"
     ]
    }
   ],
   "source": [
    "input_text = \"She didn't come today because she lost her dog yestertay!\"\n",
    "\n",
    "# Preprocess the input text\n",
    "input_sequence = tokenizer.texts_to_sequences([input_text])\n",
    "padded_input_sequence = pad_sequences(input_sequence, maxlen=max_length)\n",
    "prediction = model.predict(padded_input_sequence)\n",
    "predicted_label = label_encoder.inverse_transform([np.argmax(prediction[0])])\n",
    "print(predicted_label)"
   ]
  },
  {
   "cell_type": "markdown",
   "id": "a1e56876-05f4-4457-a763-2a5149ed22f7",
   "metadata": {},
   "source": [
    "So this is how you can use Machine Learning for the task of text emotion classification using the Python programming language."
   ]
  },
  {
   "cell_type": "raw",
   "id": "2897ca65-cebd-427e-bd92-8ca8851228e8",
   "metadata": {},
   "source": [
    "Summary\n",
    "Text emotion classification is the problem of assigning emotion to a text by understanding the context and the emotion behind the text. One real-world example is the keyboard of an iPhone that recommends the most relevant emoji by understanding the text. I hope you liked this article on Text Emotion Classification with Machine Learning using Python. Feel free to ask valuable questions in the comments section below."
   ]
  },
  {
   "cell_type": "code",
   "execution_count": null,
   "id": "099cafa2-b03f-47df-8cf8-9aba3a932774",
   "metadata": {},
   "outputs": [],
   "source": []
  }
 ],
 "metadata": {
  "kernelspec": {
   "display_name": "Python [conda env:base] *",
   "language": "python",
   "name": "conda-base-py"
  },
  "language_info": {
   "codemirror_mode": {
    "name": "ipython",
    "version": 3
   },
   "file_extension": ".py",
   "mimetype": "text/x-python",
   "name": "python",
   "nbconvert_exporter": "python",
   "pygments_lexer": "ipython3",
   "version": "3.13.5"
  }
 },
 "nbformat": 4,
 "nbformat_minor": 5
}
